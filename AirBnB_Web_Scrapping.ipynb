{
 "cells": [
  {
   "cell_type": "markdown",
   "metadata": {
    "id": "97_Hxtr1nZT0",
    "nbgrader": {
     "cell_type": "markdown",
     "checksum": "90bc2a10f37790d1364001ef0401ed45",
     "grade": false,
     "grade_id": "cell-aad0d9693d861220",
     "locked": true,
     "schema_version": 3,
     "solution": false,
     "task": false
    }
   },
   "source": [
    "# AirBnB Web Scrapping\n",
    "\n",
    "The aim of this assignment is to create and save a dataset containing information about different listings in Airbnb. You will then use this dataset during the Artifical Intelligence I course to train a predictive model."
   ]
  },
  {
   "cell_type": "markdown",
   "metadata": {
    "deletable": false,
    "editable": false,
    "id": "sqUzzkhinZT1",
    "nbgrader": {
     "cell_type": "markdown",
     "checksum": "a720f1db42b69945f298ebc0fa7e5834",
     "grade": false,
     "grade_id": "cell-ad8333c5b878d609",
     "locked": true,
     "schema_version": 3,
     "solution": false,
     "task": false
    }
   },
   "source": [
    "## Getting started\n",
    "\n",
    "[Airbnb](https://www.airbnb.com/) allows people to rent out their properties on their online platform. Travelers can then book these properties for shorter or longer periods of time. The company was founded in August 2008 in San Francisco, California, and currently has an annual revenue stream of over 2.5 Billion US Dollars. In the US alone, the platform has 660,000 listings.\n",
    "\n",
    "![airbnb](https://www.dropbox.com/s/njll910mmpzm86z/airbnb.png?raw=1)\n",
    "\n",
    "Every individual listing contains a lot of information like the facilities offered, the location, information about the host and reviews. In this assignment you will build a web scrapper to extract information from these listings using Python.\n",
    "\n",
    "![bali](https://www.dropbox.com/s/5gnj4dsv1qmvji5/bali.png?raw=1)\n",
    "\n",
    "The fact that we are confined at home shouldn't prevent us from dreaming we could go somewhere else. So, let's take a look at the different listings available to spend 5 nights in Bali during these Christmas holidays, from December 29 until January 3. You can check the different options available by in the following [link](https://www.airbnb.com/s/Bali--Indonesia/homes?tab_id=home_tab&refinement_paths%5B%5D=%2Fhomes&query=Bali%2C%20Indonesia&place_id=ChIJoQ8Q6NNB0S0RkOYkS7EPkSQ&checkin=2020-12-29&checkout=2021-01-03&source=structured_search_input_header&search_type=autocomplete_click).\n",
    "\n",
    "The whole url has been copied for you below."
   ]
  },
  {
   "cell_type": "code",
   "execution_count": 1,
   "metadata": {
    "id": "ucFvmB9rnZT1"
   },
   "outputs": [],
   "source": [
    "url = \"https://www.airbnb.com/s/Bali--Indonesia/homes?tab_id=home_tab&refinement_paths%5B%5D=%2Fhomes&query=Bali%2C%20Indonesia&place_id=ChIJoQ8Q6NNB0S0RkOYkS7EPkSQ&checkin=2020-12-29&checkout=2021-01-03&source=structured_search_input_header&search_type=autocomplete_click\""
   ]
  },
  {
   "cell_type": "markdown",
   "metadata": {
    "id": "wfk-d7HinZT1",
    "nbgrader": {
     "cell_type": "markdown",
     "checksum": "e7fda3da48b46144a20e8fa82487ad28",
     "grade": false,
     "grade_id": "cell-42289f056b768008",
     "locked": true,
     "schema_version": 3,
     "solution": false,
     "task": false
    }
   },
   "source": [
    "Let's begin by making a request to retrieve the HTML code for this website. Since it is an action that we need to perform several times throughout the assignment, let's encapsulate the corresponding code in a function.\n",
    "\n",
    "<i>get_page</i>. This function takes a url as input and return its underlying HTML code as a <b>BeautifulSoup object</b> as output."
   ]
  },
  {
   "cell_type": "code",
   "execution_count": 2,
   "metadata": {
    "deletable": false,
    "id": "U2VVE_lnnZT1",
    "nbgrader": {
     "cell_type": "code",
     "checksum": "9b6616f60edc376e1c4bdebe600ed70a",
     "grade": false,
     "grade_id": "cell-880bd6b449823798",
     "locked": false,
     "schema_version": 3,
     "solution": true,
     "task": false
    }
   },
   "outputs": [],
   "source": [
    "import requests\n",
    "import bs4\n",
    "\n",
    "def get_page(url):\n",
    "  soup=bs4.BeautifulSoup(requests.get(url).text, 'html.parser')\n",
    "  return soup"
   ]
  },
  {
   "cell_type": "markdown",
   "metadata": {
    "id": "jTEZ_hlAnZT2",
    "nbgrader": {
     "cell_type": "markdown",
     "checksum": "6ee7667710801b60683fecc207b3a1c0",
     "grade": false,
     "grade_id": "cell-d417065f24be3822",
     "locked": true,
     "schema_version": 3,
     "solution": false,
     "task": false
    }
   },
   "source": [
    "The first step in trying to extract information from a webpage is to check how it is constructed. A brief look at the given webpage shows that the information on the different listings is shown underneath each other in a list form. \n",
    "\n",
    "<img src=\"https://www.dropbox.com/s/jl436b6cc1daent/bali_listing.png?raw=1\" width=\"700\">\n",
    "\n",
    "For every listing a preview image is shown together with some standard information, including a title, a subtitle, the number of guests allowed, the number of bedrooms and bathrooms, the number of beds, information about certain ammenities, the price per night, the total price per stay, the average rating and the number of reviews.\n",
    "\n",
    "<i>get_listings</i>. This function takes a BeautifulSoup object containing the code for a whole webpage as input and return a <b>list</b> of the individual pieces of code for each listing. Selecting the larger pieces of code that contain a single listing.</div>"
   ]
  },
  {
   "cell_type": "code",
   "execution_count": 4,
   "metadata": {
    "deletable": false,
    "id": "RDbp_G_0nZT2",
    "nbgrader": {
     "cell_type": "code",
     "checksum": "dfdabc2bc15d17076b70a19dabccd9e2",
     "grade": false,
     "grade_id": "cell-e6a05939e4a60230",
     "locked": false,
     "schema_version": 3,
     "solution": true,
     "task": false
    }
   },
   "outputs": [],
   "source": [
    "def get_listings(soup):\n",
    "  listings=soup.find_all(\"div\", {\"class\":\"_gig1e7\"})\n",
    "  return listings"
   ]
  },
  {
   "cell_type": "markdown",
   "metadata": {
    "id": "wOfDLZfLnZT2",
    "nbgrader": {
     "cell_type": "markdown",
     "checksum": "98bc520139204aa779166e593cafdbf8",
     "grade": false,
     "grade_id": "cell-847592f1ed1f91e0",
     "locked": true,
     "schema_version": 3,
     "solution": false,
     "task": false
    }
   },
   "source": [
    "## Retrieving the data\n",
    "\n",
    "Let's retrieve separate information for each of them.\n",
    "\n",
    "<i>get_listing_title</i>. This function takes a soup object containing the code for an individual listing as input and return a <b>string </b>with its title as output. If no title is listed, then the function should return a <i>None</i> in boolean form.</div>"
   ]
  },
  {
   "cell_type": "code",
   "execution_count": 5,
   "metadata": {
    "deletable": false,
    "id": "LciPmMtynZT2",
    "nbgrader": {
     "cell_type": "code",
     "checksum": "d6a924bbd8f1e5371c49bb122ec53842",
     "grade": false,
     "grade_id": "cell-e8f86186ea01c58b",
     "locked": false,
     "schema_version": 3,
     "solution": true,
     "task": false
    }
   },
   "outputs": [],
   "source": [
    "def get_listing_title(listing):\n",
    "  if listing.find(\"div\", {\"class\":\"_bzh5lkq\"}) is None:\n",
    "    title=None\n",
    "  else:\n",
    "    title=listing.find(\"div\", {\"class\":\"_bzh5lkq\"}).text\n",
    "  return title"
   ]
  },
  {
   "cell_type": "markdown",
   "metadata": {
    "id": "O41ENov-nZT2",
    "nbgrader": {
     "cell_type": "markdown",
     "checksum": "ca8bbf85e2a335672366df51874ac125",
     "grade": false,
     "grade_id": "cell-4002dcc653300291",
     "locked": true,
     "schema_version": 3,
     "solution": false,
     "task": false
    }
   },
   "source": [
    "<i>get_listing_subtitle</i>. This function takes a soup object containing the code for an individual listing as input and return a <b>string</b> with its subtitle as output. If no subtitle is listed, then the function should return a <i>None</i> in boolean form.</div>"
   ]
  },
  {
   "cell_type": "code",
   "execution_count": 6,
   "metadata": {
    "deletable": false,
    "id": "JvqNjpSZnZT2",
    "nbgrader": {
     "cell_type": "code",
     "checksum": "f4eb153cbd870c227c9c3ab7091d1c8d",
     "grade": false,
     "grade_id": "cell-1689d7e4d996b9f4",
     "locked": false,
     "schema_version": 3,
     "solution": true,
     "task": false
    }
   },
   "outputs": [],
   "source": [
    "def get_listing_subtitle(listing):\n",
    "  if listing.find(\"div\", {\"class\":\"_167qordg\"}) is None:\n",
    "    subtitle=None\n",
    "  else:\n",
    "    subtitle=listing.find(\"div\", {\"class\":\"_167qordg\"}).text\n",
    "  return subtitle"
   ]
  },
  {
   "cell_type": "markdown",
   "metadata": {
    "id": "LBik8_QynZT2",
    "nbgrader": {
     "cell_type": "markdown",
     "checksum": "9c3cbab44bbf0d8714ce2904ea6487fb",
     "grade": false,
     "grade_id": "cell-b0d42d4b36c13526",
     "locked": true,
     "schema_version": 3,
     "solution": false,
     "task": false
    }
   },
   "source": [
    "Retrieving the list of attribute that contains information about the number of guests allowed, the number of bedrooms, the number of beds and the number bathrooms. Creation of a new function that retrieves this information for each separate listing. \n",
    "\n",
    "<i>get_listing_info</i>. This function should take a soup object containing the code for an individual listing as input and return a <b>string</b> with the general listing information as output. If no information is provided, then the function returns a <i>None</i> in boolean form.</div>"
   ]
  },
  {
   "cell_type": "code",
   "execution_count": 7,
   "metadata": {
    "deletable": false,
    "id": "uwTZav0jnZT2",
    "nbgrader": {
     "cell_type": "code",
     "checksum": "124cd05cdb9a68534313ec36b125af00",
     "grade": false,
     "grade_id": "cell-8cd48dced81c6a67",
     "locked": false,
     "schema_version": 3,
     "solution": true,
     "task": false
    }
   },
   "outputs": [],
   "source": [
    "def get_listing_info(listing):\n",
    "  if listing.find(\"div\", {\"class\":\"_kqh46o\"}) is None:\n",
    "    info=None\n",
    "  else:\n",
    "    info=listing.find(\"div\", {\"class\":\"_kqh46o\"}).text\n",
    "  return info"
   ]
  },
  {
   "cell_type": "markdown",
   "metadata": {
    "id": "pHx0FyQVnZT3",
    "nbgrader": {
     "cell_type": "markdown",
     "checksum": "2e400f9325f82a33878226e0ef45ff07",
     "grade": false,
     "grade_id": "cell-d4b9f8970c8c331f",
     "locked": true,
     "schema_version": 3,
     "solution": false,
     "task": false
    }
   },
   "source": [
    "Below that information list, there is yet another list that contains information about different ammenities.\n",
    "\n",
    "<i>get_listing_ammenities</i>. This function takes a soup object containing the code for an individual listing as input and return a <b>string</b> with the listing ammenities information as output. If no information is provided, then the function returns a <i>None</i> in boolean form.</div>"
   ]
  },
  {
   "cell_type": "code",
   "execution_count": 8,
   "metadata": {
    "deletable": false,
    "id": "uIHtnyD7nZT3",
    "nbgrader": {
     "cell_type": "code",
     "checksum": "54a80d468b1add34315cc6b7feeb53fb",
     "grade": false,
     "grade_id": "cell-2e7e3371291fdb72",
     "locked": false,
     "schema_version": 3,
     "solution": true,
     "task": false
    }
   },
   "outputs": [],
   "source": [
    "def get_listing_ammenities(listing):\n",
    "  if len(listing.find_all(\"div\", {\"class\":\"_kqh46o\"}))<2:\n",
    "    ammenities=None\n",
    "  else:\n",
    "    ammenities=listing.find_all(\"div\", {\"class\":\"_kqh46o\"})[1].text\n",
    "  return ammenities"
   ]
  },
  {
   "cell_type": "markdown",
   "metadata": {
    "id": "MkSohB0GnZT3"
   },
   "source": [
    "<i>get_listing_rating</i>. This function takes a soup object containing the code for an individual listing as input and return a <b>float</b> with its average rating as output. If no rating is listed, then the function returns a <i>None</i> in boolean form.</div>"
   ]
  },
  {
   "cell_type": "code",
   "execution_count": 9,
   "metadata": {
    "deletable": false,
    "id": "6CmZHDxAnZT3",
    "nbgrader": {
     "cell_type": "code",
     "checksum": "250492ea91d69c1e4f152600a210762d",
     "grade": false,
     "grade_id": "cell-f2bc50624dbb40ce",
     "locked": false,
     "schema_version": 3,
     "solution": true,
     "task": false
    }
   },
   "outputs": [],
   "source": [
    "def get_listing_rating(listing):\n",
    "  if \"Rating\" in listing.find_all(\"span\", {\"class\":\"_krjbj\"})[0].text:\n",
    "    rating=float(listing.find(\"span\", {\"class\":\"_10fy1f8\"}).text)\n",
    "  else:\n",
    "    rating=None\n",
    "  return rating"
   ]
  },
  {
   "cell_type": "markdown",
   "metadata": {
    "id": "qYCP6-iUnZT3"
   },
   "source": [
    "<i>get_listing_reviews</i>. This function takes a soup object containing the code for an individual listing as input and return an <b>int</b> with its number of reviews as output. If no reviews are included, then the function returns a <i>None</i> in boolean form.</div>"
   ]
  },
  {
   "cell_type": "code",
   "execution_count": 10,
   "metadata": {
    "deletable": false,
    "id": "3EbDeBfGnZT3",
    "nbgrader": {
     "cell_type": "code",
     "checksum": "ff5ea4ba19f3c9c0664f957914ef6df4",
     "grade": false,
     "grade_id": "cell-83a938a9399a8a44",
     "locked": false,
     "schema_version": 3,
     "solution": true,
     "task": false
    }
   },
   "outputs": [],
   "source": [
    "def get_listing_reviews(listing):\n",
    "  if (\"reviews\" or \"review\") in listing.find_all(\"span\", {\"class\":\"_krjbj\"})[1].text:\n",
    "    text=listing.find_all(\"span\", {\"class\":\"_krjbj\"})[1].text\n",
    "    int_review=[int(s) for s in text.split() if s.isdigit()]\n",
    "    rating=int_review[0]  \n",
    "  else:\n",
    "    rating=None\n",
    "  return rating"
   ]
  },
  {
   "cell_type": "markdown",
   "metadata": {
    "id": "vqH1Ovn7nZT3",
    "nbgrader": {
     "cell_type": "markdown",
     "checksum": "6b3d10c60c102172b9c76f43270e7240",
     "grade": false,
     "grade_id": "cell-bd598b09b5bbae98",
     "locked": true,
     "schema_version": 3,
     "solution": false,
     "task": false
    }
   },
   "source": [
    "<i>get_listing_price_per_night</i>. This function takes a soup object containing the code for an individual listing as input and return a <b>str</b> with its corresponding price per night. The string only contains the actual number, nothing else. If no price is listed, then the function returns a <i>None</i> in boolean form.</div>"
   ]
  },
  {
   "cell_type": "code",
   "execution_count": 11,
   "metadata": {
    "deletable": false,
    "id": "6dYELKG1nZT3",
    "nbgrader": {
     "cell_type": "code",
     "checksum": "725236bda6336822f272d472bb9c45dc",
     "grade": false,
     "grade_id": "cell-f86994d41ef89f05",
     "locked": false,
     "schema_version": 3,
     "solution": true,
     "task": false
    }
   },
   "outputs": [],
   "source": [
    "def get_listing_price_per_night(listing):\n",
    "    if \"Disc\" in listing.find(\"span\", {\"class\":\"_1p7iugi\"}).text: #\"Disc\" for \"Discounted\",I split the string on the symbol $ and on the letter D, and retrieve the right element of it in the list\n",
    "      price=listing.find(\"span\", {\"class\":\"_1p7iugi\"}).text.split(\"$\")[1].split(\"D\")[0]\n",
    "    else:\n",
    "      if \"rice\" in listing.find(\"span\", {\"class\":\"_1p7iugi\"}).text:\n",
    "        price=listing.find(\"span\", {\"class\":\"_1p7iugi\"}).text.split(\"$\")[1]\n",
    "      else:\n",
    "        price=None\n",
    "    return price\n",
    "\n"
   ]
  },
  {
   "cell_type": "markdown",
   "metadata": {
    "id": "lHcgIy0onZT3",
    "nbgrader": {
     "cell_type": "markdown",
     "checksum": "2ff2f0995c377277d430f82e2c3c049a",
     "grade": false,
     "grade_id": "cell-61dbba21276d1bb9",
     "locked": true,
     "schema_version": 3,
     "solution": false,
     "task": false
    }
   },
   "source": [
    "<i>get_listing_total_price</i>. This function takes a soup object containing the code for an individual listing as input and return a <b>string</b> with its total price. This string only contains the actual number, nothing else. If no total price is listed, then the function returns a <i>None</i> in boolean form.</div>"
   ]
  },
  {
   "cell_type": "code",
   "execution_count": 13,
   "metadata": {
    "deletable": false,
    "id": "fwFKhfkmnZT3",
    "nbgrader": {
     "cell_type": "code",
     "checksum": "7d751a81c4f4f2f05a5618268bf3f0c3",
     "grade": false,
     "grade_id": "cell-72f1e4512f7afe15",
     "locked": false,
     "schema_version": 3,
     "solution": true,
     "task": false
    }
   },
   "outputs": [],
   "source": [
    "def get_listing_total_price(listing):\n",
    "  if \"total\" in listings[3].find_all(\"div\", {\"class\":\"_17y0hv9\"})[0].text:\n",
    "    total_price=listing.find_all(\"div\", {\"class\":\"_17y0hv9\"})[0].text.split(\"$\")[1].split(\" \")[0]\n",
    "  else:\n",
    "    total_price=None\n",
    "  return total_price"
   ]
  },
  {
   "cell_type": "markdown",
   "metadata": {
    "id": "2WcP7qv3nZT4"
   },
   "source": [
    "We need a way to extract the data from all the different pages. At the end of each page, there is a link that allows you to access the next page and we are gonna use it.\n",
    "\n",
    "<i>find_next_page</i>.This function takes a soup object containing the code for an individual page as input and return the <b> complete url</b> for the next page. If there are no more pages left, it returns a <i>None</i> in boolean form."
   ]
  },
  {
   "cell_type": "code",
   "execution_count": 14,
   "metadata": {
    "deletable": false,
    "id": "nbcHFYCxnZT4",
    "nbgrader": {
     "cell_type": "code",
     "checksum": "d2e69bf64458f138fdc5e5b523014d8c",
     "grade": false,
     "grade_id": "cell-e11f54f74c6da362",
     "locked": false,
     "schema_version": 3,
     "solution": true,
     "task": false
    }
   },
   "outputs": [],
   "source": [
    "base_url = \"https://airbnb.com\"\n",
    "\n",
    "def find_next_page(page):\n",
    "  soup=bs4.BeautifulSoup(requests.get(page).text, 'html.parser')\n",
    "  if soup.find('a', {'class': '_za9j7e'}) is None:\n",
    "    return None\n",
    "  else:\n",
    "    next_page=base_url+soup.find('a', {'class': '_za9j7e'})['href']\n",
    "    return next_page"
   ]
  },
  {
   "cell_type": "markdown",
   "metadata": {
    "id": "I0__bfodnZT3",
    "nbgrader": {
     "cell_type": "markdown",
     "checksum": "dfce2acb241282a1617cf9b81f098346",
     "grade": false,
     "grade_id": "cell-d781fd2d10e26",
     "locked": true,
     "schema_version": 3,
     "solution": false,
     "task": false
    }
   },
   "source": [
    "Retrieving the data for the different listings and for all the different pages.\n",
    "\n",
    "Code to retrieve the data above for all the listings in all the different pages. Storing this information in lists called <i>title</i>, <i>subtitle</i>, <i>info</i>, <i>ammenities</i>, <i>rating</i>, <i>reviews</i>, <i>price_per_night</i> and <i>total_price</i>."
   ]
  },
  {
   "cell_type": "code",
   "execution_count": 15,
   "metadata": {
    "deletable": false,
    "id": "mvpp4ZqunZT4",
    "nbgrader": {
     "cell_type": "code",
     "checksum": "13b56f3092290fe9fcbda1837b4624e0",
     "grade": false,
     "grade_id": "cell-969852fa789f540a",
     "locked": false,
     "schema_version": 3,
     "solution": true,
     "task": false
    }
   },
   "outputs": [],
   "source": [
    "title = []\n",
    "subtitle = []\n",
    "info = []\n",
    "ammenities = []\n",
    "rating = []\n",
    "reviews = []\n",
    "price_per_night = []\n",
    "total_price = []\n",
    "\n",
    "webpage=url\n",
    "n_pages = int(get_page(webpage).find(\"div\",{\"class\":\"_jro6t0\"}).text[-2:]) #it works only as long as the number of page is below 100\n",
    "# Write loop to traverse the pages\n",
    "for run in range(n_pages):\n",
    "  soup=get_page(webpage)\n",
    "  listings=get_listings(soup)\n",
    "  webpage=find_next_page(webpage)\n",
    "  for listing in listings:\n",
    "    title.append(get_listing_title(listing))\n",
    "    info.append(get_listing_info(listing))\n",
    "    rating.append(get_listing_rating(listing))\n",
    "    reviews.append(get_listing_reviews(listing))\n",
    "    price_per_night.append(get_listing_price_per_night(listing))\n",
    "    total_price.append(get_listing_total_price(listing))\n",
    "    subtitle.append(get_listing_subtitle(listing))\n",
    "    ammenities.append(get_listing_ammenities(listing))"
   ]
  },
  {
   "cell_type": "markdown",
   "metadata": {
    "id": "I0__bfodnZT3",
    "nbgrader": {
     "cell_type": "markdown",
     "checksum": "dfce2acb241282a1617cf9b81f098346",
     "grade": false,
     "grade_id": "cell-d781fd2d10e26",
     "locked": true,
     "schema_version": 3,
     "solution": false,
     "task": false
    }
   },
   "source": [
    "## Saving the data\n",
    "\n",
    "Now that all the data has been retrieved, storing them in a DataFrame."
   ]
  },
  {
   "cell_type": "code",
   "execution_count": 16,
   "metadata": {
    "id": "dNN6Jzq-Ygyw"
   },
   "outputs": [],
   "source": [
    "import pandas as pd"
   ]
  },
  {
   "cell_type": "code",
   "execution_count": 17,
   "metadata": {
    "deletable": false,
    "id": "B_bFarYcnZT5",
    "nbgrader": {
     "cell_type": "code",
     "checksum": "d689952999f4d2d18bb1b197782fcb2c",
     "grade": false,
     "grade_id": "cell-3bc00597312c36fe",
     "locked": false,
     "schema_version": 3,
     "solution": true,
     "task": false
    }
   },
   "outputs": [],
   "source": [
    "airbnb = pd.DataFrame(data = {'title': title,\n",
    "                          'subtitle': subtitle,\n",
    "                          'info': info,\n",
    "                          'ammenities': ammenities,\n",
    "                          'rating': rating,\n",
    "                          'reviews': reviews,\n",
    "                          'price_per_night': price_per_night,\n",
    "                          'total_price':total_price,\n",
    "                         })"
   ]
  },
  {
   "cell_type": "code",
   "execution_count": 18,
   "metadata": {
    "colab": {
     "base_uri": "https://localhost:8080/",
     "height": 570
    },
    "id": "AbeoVBOJa6jw",
    "outputId": "acc91a87-7383-4dca-856c-1a66eed215e7"
   },
   "outputs": [
    {
     "data": {
      "text/html": [
       "<div>\n",
       "<style scoped>\n",
       "    .dataframe tbody tr th:only-of-type {\n",
       "        vertical-align: middle;\n",
       "    }\n",
       "\n",
       "    .dataframe tbody tr th {\n",
       "        vertical-align: top;\n",
       "    }\n",
       "\n",
       "    .dataframe thead th {\n",
       "        text-align: right;\n",
       "    }\n",
       "</style>\n",
       "<table border=\"1\" class=\"dataframe\">\n",
       "  <thead>\n",
       "    <tr style=\"text-align: right;\">\n",
       "      <th></th>\n",
       "      <th>title</th>\n",
       "      <th>subtitle</th>\n",
       "      <th>info</th>\n",
       "      <th>ammenities</th>\n",
       "      <th>rating</th>\n",
       "      <th>reviews</th>\n",
       "      <th>price_per_night</th>\n",
       "      <th>total_price</th>\n",
       "    </tr>\n",
       "  </thead>\n",
       "  <tbody>\n",
       "    <tr>\n",
       "      <th>0</th>\n",
       "      <td>LOWER PRICE - Special Offer For Monthly Rental !</td>\n",
       "      <td>Entire villa in Ketewel</td>\n",
       "      <td>8 guests · 4 bedrooms · 5 beds · 4.5 baths</td>\n",
       "      <td>Pool · Wifi · Air conditioning · Kitchen</td>\n",
       "      <td>NaN</td>\n",
       "      <td>NaN</td>\n",
       "      <td>354</td>\n",
       "      <td>2,020</td>\n",
       "    </tr>\n",
       "    <tr>\n",
       "      <th>1</th>\n",
       "      <td>gmb beachhouse bingin beachfront amazing villa</td>\n",
       "      <td>Island in Kabupaten Badung</td>\n",
       "      <td>4 guests · 3 bedrooms · 4 beds · 1 bath</td>\n",
       "      <td>Wifi · Air conditioning · Kitchen</td>\n",
       "      <td>4.77</td>\n",
       "      <td>82.0</td>\n",
       "      <td>180</td>\n",
       "      <td>1,084</td>\n",
       "    </tr>\n",
       "    <tr>\n",
       "      <th>2</th>\n",
       "      <td>Beautiful villa on the edge of BLUE LAGOON</td>\n",
       "      <td>Entire villa in Nusa Ceningan</td>\n",
       "      <td>2 guests · 1 bedroom · 1 bed · 1 bath</td>\n",
       "      <td>Pool · Wifi · Air conditioning</td>\n",
       "      <td>4.82</td>\n",
       "      <td>310.0</td>\n",
       "      <td>92</td>\n",
       "      <td>400</td>\n",
       "    </tr>\n",
       "    <tr>\n",
       "      <th>3</th>\n",
       "      <td>PROMO -70%- Amazing 4BR Villa With Ricefield View</td>\n",
       "      <td>Entire villa in Kecamatan Ubud</td>\n",
       "      <td>10 guests · 4 bedrooms · 6 beds · 4 baths</td>\n",
       "      <td>Pool · Wifi · Air conditioning · Kitchen</td>\n",
       "      <td>4.94</td>\n",
       "      <td>16.0</td>\n",
       "      <td>459</td>\n",
       "      <td>1,969</td>\n",
       "    </tr>\n",
       "    <tr>\n",
       "      <th>4</th>\n",
       "      <td>Villa Murai Sumberkima Hill</td>\n",
       "      <td>Entire villa in Pemuteran</td>\n",
       "      <td>2 guests · 1 bedroom · 1 bed · 1 bath</td>\n",
       "      <td>Pool · Wifi · Air conditioning · Kitchen</td>\n",
       "      <td>4.85</td>\n",
       "      <td>20.0</td>\n",
       "      <td>141</td>\n",
       "      <td>803</td>\n",
       "    </tr>\n",
       "    <tr>\n",
       "      <th>...</th>\n",
       "      <td>...</td>\n",
       "      <td>...</td>\n",
       "      <td>...</td>\n",
       "      <td>...</td>\n",
       "      <td>...</td>\n",
       "      <td>...</td>\n",
       "      <td>...</td>\n",
       "      <td>...</td>\n",
       "    </tr>\n",
       "    <tr>\n",
       "      <th>295</th>\n",
       "      <td>Honeymooners Villa Private Pool w/ beach access</td>\n",
       "      <td>Entire villa in Kecamatan Tabanan</td>\n",
       "      <td>3 guests · 1 bedroom · 1 bed · 1 bath</td>\n",
       "      <td>Pool · Wifi · Air conditioning</td>\n",
       "      <td>5.00</td>\n",
       "      <td>17.0</td>\n",
       "      <td>166</td>\n",
       "      <td>947</td>\n",
       "    </tr>\n",
       "    <tr>\n",
       "      <th>296</th>\n",
       "      <td>Exotic Studio Room in Kuta (202)</td>\n",
       "      <td>Entire apartment in Kuta</td>\n",
       "      <td>2 guests · 1 bedroom · 1 bed · 1 bath</td>\n",
       "      <td>Wifi · Air conditioning · Kitchen</td>\n",
       "      <td>4.64</td>\n",
       "      <td>14.0</td>\n",
       "      <td>17</td>\n",
       "      <td>61</td>\n",
       "    </tr>\n",
       "    <tr>\n",
       "      <th>297</th>\n",
       "      <td>Stunning Boho Designer Villa Canggu Ricefieldview</td>\n",
       "      <td>Entire villa in Kuta Utara</td>\n",
       "      <td>6 guests · 3 bedrooms · 3 beds · 3.5 baths</td>\n",
       "      <td>Pool · Wifi · Air conditioning · Kitchen</td>\n",
       "      <td>4.91</td>\n",
       "      <td>35.0</td>\n",
       "      <td>350</td>\n",
       "      <td>2,026</td>\n",
       "    </tr>\n",
       "    <tr>\n",
       "      <th>298</th>\n",
       "      <td>Oka's Homestay stndr #2</td>\n",
       "      <td>Private room in Kuta Utara</td>\n",
       "      <td>2 guests · 1 bedroom · 1 bed · 1 private bath</td>\n",
       "      <td>Wifi · Air conditioning</td>\n",
       "      <td>4.00</td>\n",
       "      <td>8.0</td>\n",
       "      <td>14</td>\n",
       "      <td>57</td>\n",
       "    </tr>\n",
       "    <tr>\n",
       "      <th>299</th>\n",
       "      <td>Beach Front Hotel at Lovina Beach North Bali</td>\n",
       "      <td>Hotel room in Kecamatan Buleleng</td>\n",
       "      <td>2 guests · 1 bedroom · 2 beds · 1 bath</td>\n",
       "      <td>Pool · Wifi · Air conditioning</td>\n",
       "      <td>4.40</td>\n",
       "      <td>20.0</td>\n",
       "      <td>48</td>\n",
       "      <td>272</td>\n",
       "    </tr>\n",
       "  </tbody>\n",
       "</table>\n",
       "<p>300 rows × 8 columns</p>\n",
       "</div>"
      ],
      "text/plain": [
       "                                                 title  ... total_price\n",
       "0     LOWER PRICE - Special Offer For Monthly Rental !  ...       2,020\n",
       "1       gmb beachhouse bingin beachfront amazing villa  ...       1,084\n",
       "2           Beautiful villa on the edge of BLUE LAGOON  ...         400\n",
       "3    PROMO -70%- Amazing 4BR Villa With Ricefield View  ...       1,969\n",
       "4                          Villa Murai Sumberkima Hill  ...         803\n",
       "..                                                 ...  ...         ...\n",
       "295    Honeymooners Villa Private Pool w/ beach access  ...         947\n",
       "296                   Exotic Studio Room in Kuta (202)  ...          61\n",
       "297  Stunning Boho Designer Villa Canggu Ricefieldview  ...       2,026\n",
       "298                            Oka's Homestay stndr #2  ...          57\n",
       "299       Beach Front Hotel at Lovina Beach North Bali  ...         272\n",
       "\n",
       "[300 rows x 8 columns]"
      ]
     },
     "execution_count": 18,
     "metadata": {
      "tags": []
     },
     "output_type": "execute_result"
    }
   ],
   "source": [
    "airbnb"
   ]
  },
  {
   "cell_type": "markdown",
   "metadata": {
    "id": "o4WIs9C8nZT5",
    "nbgrader": {
     "cell_type": "markdown",
     "checksum": "a41dedfb442d78e870011db58bad2e66",
     "grade": false,
     "grade_id": "cell-e7c17d5e8ca769f8",
     "locked": true,
     "schema_version": 3,
     "solution": false,
     "task": false
    }
   },
   "source": [
    "Saving the DataFrame to a csv file by runnign the following cell."
   ]
  },
  {
   "cell_type": "code",
   "execution_count": 19,
   "metadata": {
    "id": "-d1mbrLgnZT5"
   },
   "outputs": [],
   "source": [
    "airbnb.to_csv(\"airbnb.csv\", index=False)"
   ]
  },
  {
   "cell_type": "markdown",
   "metadata": {
    "id": "JQyRdNoknZT5",
    "nbgrader": {
     "cell_type": "markdown",
     "checksum": "b5b54148763f063ea624a940269f9e40",
     "grade": false,
     "grade_id": "cell-e05f29a6fa8644c8",
     "locked": true,
     "schema_version": 3,
     "solution": false,
     "task": false
    }
   },
   "source": [
    "## Bonus exercises\n",
    "\n",
    "Redefine the way in which both the info and the ammenities data are stored. For each of this items, you retrieved the whole string containing information about different elements. Let's extract the separate information for each of these elements.\n",
    "\n",
    "<div class=\"alert alert-danger\"><b>Bonus 1 </b>Write the code to retrieve the individual data from the <i>info</i> list. This list should contain information about the number of guests, the number of bedrooms, the number of beds and the number of baths. Store the information for the number of guests, bedrooms and bathrooms in separate lists called <i>guests</i>, <i>bedrooms</i> and <i>baths</i>. The number of guests an dbedrooms should be store in <b>int</b> form, while the number of baths should be a <b>float</b></div>"
   ]
  },
  {
   "cell_type": "code",
   "execution_count": 20,
   "metadata": {
    "deletable": false,
    "id": "h0x4T6kXnZT5",
    "nbgrader": {
     "cell_type": "code",
     "checksum": "83f782b9df3ad23a6597fea7a807ed88",
     "grade": false,
     "grade_id": "cell-b948cd709ca248eb",
     "locked": false,
     "schema_version": 3,
     "solution": true,
     "task": false
    }
   },
   "outputs": [],
   "source": [
    "import re\n",
    "\n",
    "def get_guests(listing):\n",
    "  info=get_listing_info(listing)\n",
    "  if \"guest\" in info:\n",
    "    number_guests=int(info.split(\"guest\")[0])\n",
    "  else:\n",
    "    number_guests=None\n",
    "  return number_guests\n",
    "\n",
    "def get_bathrooms(listing):\n",
    "  info=get_listing_info(listing)\n",
    "  if \"Half-bath\" in info:\n",
    "    number_bathrooms=0.5\n",
    "  else:\n",
    "    if \" bath\" in info:\n",
    "      temp=info.split(\"·\")[-1]\n",
    "      number_bathrooms=float(re.findall(r\"[-+]?\\d*\\.\\d+|\\d+\", temp)[0])\n",
    "    else:\n",
    "      number_bathrooms=None\n",
    "  return number_bathrooms\n",
    "\n",
    "def get_bedrooms(listing):\n",
    "  info=get_listing_info(listing)\n",
    "  if (\"guest\" and \"bedroom\") in info:\n",
    "    temp=info.split(\"·\")[1]\n",
    "    number=[int(s) for s in temp.split() if s.isdigit()][0]\n",
    "  else:\n",
    "    if \"bedroom\" in info:\n",
    "      temp=info.split(\"·\")[0]\n",
    "      number=[int(s) for s in temp.split() if s.isdigit()][0]\n",
    "    else:\n",
    "      number=None\n",
    "  return number\n",
    "\n",
    "\n",
    "#Function creation for the three elements"
   ]
  },
  {
   "cell_type": "code",
   "execution_count": 21,
   "metadata": {
    "id": "JO2CCQ9SqG0H"
   },
   "outputs": [],
   "source": [
    "guests = []\n",
    "bedrooms = []\n",
    "baths = []\n",
    "\n",
    "webpage=url\n",
    "n_pages = int(get_page(webpage).find(\"div\",{\"class\":\"_jro6t0\"}).text[-2:]) #it works only as long as the number of page is below 100\n",
    "for run in range(n_pages):\n",
    "  soup=get_page(webpage)\n",
    "  listings=get_listings(soup)\n",
    "  webpage=find_next_page(webpage)\n",
    "  for listing in listings:\n",
    "    guests.append(get_guests(listing))\n",
    "    baths.append(get_bathrooms(listing))\n",
    "    bedrooms.append(get_bedrooms(listing))"
   ]
  },
  {
   "cell_type": "markdown",
   "metadata": {
    "id": "CJqzI0b3nZT6",
    "nbgrader": {
     "cell_type": "markdown",
     "checksum": "d9ecf8568be191fd4815c516f449de36",
     "grade": false,
     "grade_id": "cell-ef85e8a13c8738d9",
     "locked": true,
     "schema_version": 3,
     "solution": false,
     "task": false
    }
   },
   "source": [
    "Appart from the general information, when searching for the best choice, there might be some specific things we are looking for. I don't know about you, but I would definitely look for a place with a pool, a kitchen, wifi and definitely some air conditioning.\n",
    "\n",
    "<div class=\"alert alert-danger\"><b>Bonus 2 </b>Write the code to retrieve these data from the <i>ammenities</i> list. Remember that this list contains information about the different services that are offered in str form. For each of the 4 ammenities above (wiki, kitchen, air conditioning and pool) create a new list that stores a 1 in <b>int</b> form if the ammenity is present and a 0 in <b>int</b> form otherwise. Store these values in separate lists called <i>wifi</i>, <i>kitchen</i>, <i>air_conditioning</i> and <i>pool</i>. If the values in your <i>ammenities</i> is missing, use a <i>None</i> in boolean form for every individual ammenity.</div>"
   ]
  },
  {
   "cell_type": "code",
   "execution_count": 22,
   "metadata": {
    "deletable": false,
    "id": "Bke9SFt9nZT6",
    "nbgrader": {
     "cell_type": "code",
     "checksum": "a1b4f8b4cee23843e3cf16c656c2ddae",
     "grade": false,
     "grade_id": "cell-e8e2ab1d726d3920",
     "locked": false,
     "schema_version": 3,
     "solution": true,
     "task": false
    }
   },
   "outputs": [],
   "source": [
    "def get_wifi(listing):\n",
    "  info=get_listing_ammenities(listing)\n",
    "  if len(listing.find_all(\"div\", {\"class\":\"_kqh46o\"}))<2:\n",
    "    presense_wifi=None\n",
    "  else:\n",
    "    if \"Wifi\" in info:\n",
    "      presense_wifi=int(1)\n",
    "    else:\n",
    "      presense_wifi=int(0)\n",
    "  return presense_wifi\n",
    "\n",
    "def get_kitchen(listing):\n",
    "  info=get_listing_ammenities(listing)\n",
    "  if len(listing.find_all(\"div\", {\"class\":\"_kqh46o\"}))<2:\n",
    "    presense_kitchen=None\n",
    "  else:\n",
    "    if \"Kitchen\" in info:\n",
    "      presense_kitchen=int(1)\n",
    "    else:\n",
    "      presense_kitchen=int(0)\n",
    "  return presense_kitchen\n",
    "\n",
    "def get_air_conditioning(listing):\n",
    "  info=get_listing_ammenities(listing)\n",
    "  if len(listing.find_all(\"div\", {\"class\":\"_kqh46o\"}))<2:\n",
    "    presense_air_conditioning=None\n",
    "  else:\n",
    "    if \"conditioning\" in info:\n",
    "      presense_air_conditioning=int(1)\n",
    "    else:\n",
    "      presense_air_conditioning=int(0)\n",
    "  return presense_air_conditioning\n",
    "\n",
    "def get_pool(listing):\n",
    "  info=get_listing_ammenities(listing)\n",
    "  if len(listing.find_all(\"div\", {\"class\":\"_kqh46o\"}))<2:\n",
    "    presense_pool=None\n",
    "  else:\n",
    "    if \"Pool\" in info:\n",
    "      presense_pool=int(1)\n",
    "    else:\n",
    "      presense_pool=int(0)\n",
    "  return presense_pool"
   ]
  },
  {
   "cell_type": "code",
   "execution_count": 23,
   "metadata": {
    "id": "JP3tgaL3bDi2"
   },
   "outputs": [],
   "source": [
    "wifi = []\n",
    "kitchen = []\n",
    "air_conditioning = []\n",
    "pool = []\n",
    "\n",
    "webpage=url\n",
    "n_pages = int(get_page(webpage).find(\"div\",{\"class\":\"_jro6t0\"}).text[-2:]) #it works only as long as the number of page is below 100\n",
    "for run in range(n_pages):\n",
    "  soup=get_page(webpage)\n",
    "  listings=get_listings(soup)\n",
    "  webpage=find_next_page(webpage)\n",
    "  for listing in listings:\n",
    "    wifi.append(get_wifi(listing))\n",
    "    kitchen.append(get_kitchen(listing))\n",
    "    air_conditioning.append(get_air_conditioning(listing))\n",
    "    pool.append(get_pool(listing))"
   ]
  },
  {
   "cell_type": "markdown",
   "metadata": {
    "id": "I0__bfodnZT3",
    "nbgrader": {
     "cell_type": "markdown",
     "checksum": "dfce2acb241282a1617cf9b81f098346",
     "grade": false,
     "grade_id": "cell-d781fd2d10e26",
     "locked": true,
     "schema_version": 3,
     "solution": false,
     "task": false
    }
   },
   "source": [
    "<div class=\"alert alert-danger\"><b>Bonus 3 </b>Write the code to save these data to a DataFrame object called <i>airbnb</i>. This time, instead of including the columns <i>info</i> and <i>ammenities</i>, include the lists you created above. The names of the different columns should be equal to those of the lists you just created: <i>title</i>, <i>subtitle</i>, <i>rating</i>, <i>reviews</i>, <i>price_per_night</i>, <i>total_price</i>, <i>guests</i>, <i>bedrooms</i>, <i>baths</i>, <i>wifi</i>, <i>kitchen</i>, <i>air_conditioning</i> and <i>pool</i>. Don't define any index when defining your DataFrame.</div>"
   ]
  },
  {
   "cell_type": "code",
   "execution_count": 25,
   "metadata": {
    "deletable": false,
    "id": "C0XnGzDxnZT6",
    "nbgrader": {
     "cell_type": "code",
     "checksum": "b9aefc1ff39dc0f103f8474eea1657fb",
     "grade": false,
     "grade_id": "cellc00597312c36fe",
     "locked": false,
     "schema_version": 3,
     "solution": true,
     "task": false
    }
   },
   "outputs": [],
   "source": [
    "import pandas as pd\n",
    "airbnb=pd.DataFrame(data = {'title': title,\n",
    "                          'subtitle': subtitle,\n",
    "                          'rating': rating,\n",
    "                          'reviews': reviews,\n",
    "                          'price_per_night': price_per_night,\n",
    "                          'total_price': total_price,\n",
    "                          'guests': guests,\n",
    "                          'bedrooms':bedrooms,\n",
    "                          'baths':baths,\n",
    "                          'wifi':wifi,\n",
    "                          'kitchen':kitchen,\n",
    "                          'air_conditioning':air_conditioning,\n",
    "                          'pool':pool,\n",
    "                         })"
   ]
  },
  {
   "cell_type": "code",
   "execution_count": 26,
   "metadata": {
    "colab": {
     "base_uri": "https://localhost:8080/",
     "height": 875
    },
    "id": "5j_PpWwWHlIB",
    "outputId": "5415b66e-bed8-4f9b-e62d-aeae0d157806"
   },
   "outputs": [
    {
     "data": {
      "text/html": [
       "<div>\n",
       "<style scoped>\n",
       "    .dataframe tbody tr th:only-of-type {\n",
       "        vertical-align: middle;\n",
       "    }\n",
       "\n",
       "    .dataframe tbody tr th {\n",
       "        vertical-align: top;\n",
       "    }\n",
       "\n",
       "    .dataframe thead th {\n",
       "        text-align: right;\n",
       "    }\n",
       "</style>\n",
       "<table border=\"1\" class=\"dataframe\">\n",
       "  <thead>\n",
       "    <tr style=\"text-align: right;\">\n",
       "      <th></th>\n",
       "      <th>title</th>\n",
       "      <th>subtitle</th>\n",
       "      <th>rating</th>\n",
       "      <th>reviews</th>\n",
       "      <th>price_per_night</th>\n",
       "      <th>total_price</th>\n",
       "      <th>guests</th>\n",
       "      <th>bedrooms</th>\n",
       "      <th>baths</th>\n",
       "      <th>wifi</th>\n",
       "      <th>kitchen</th>\n",
       "      <th>air_conditioning</th>\n",
       "      <th>pool</th>\n",
       "    </tr>\n",
       "  </thead>\n",
       "  <tbody>\n",
       "    <tr>\n",
       "      <th>0</th>\n",
       "      <td>LOWER PRICE - Special Offer For Monthly Rental !</td>\n",
       "      <td>Entire villa in Ketewel</td>\n",
       "      <td>NaN</td>\n",
       "      <td>NaN</td>\n",
       "      <td>354</td>\n",
       "      <td>2,020</td>\n",
       "      <td>8</td>\n",
       "      <td>4.0</td>\n",
       "      <td>4.5</td>\n",
       "      <td>1.0</td>\n",
       "      <td>0.0</td>\n",
       "      <td>1.0</td>\n",
       "      <td>1.0</td>\n",
       "    </tr>\n",
       "    <tr>\n",
       "      <th>1</th>\n",
       "      <td>gmb beachhouse bingin beachfront amazing villa</td>\n",
       "      <td>Island in Kabupaten Badung</td>\n",
       "      <td>4.77</td>\n",
       "      <td>82.0</td>\n",
       "      <td>180</td>\n",
       "      <td>1,084</td>\n",
       "      <td>4</td>\n",
       "      <td>2.0</td>\n",
       "      <td>2.0</td>\n",
       "      <td>1.0</td>\n",
       "      <td>1.0</td>\n",
       "      <td>1.0</td>\n",
       "      <td>1.0</td>\n",
       "    </tr>\n",
       "    <tr>\n",
       "      <th>2</th>\n",
       "      <td>Beautiful villa on the edge of BLUE LAGOON</td>\n",
       "      <td>Entire villa in Nusa Ceningan</td>\n",
       "      <td>4.82</td>\n",
       "      <td>310.0</td>\n",
       "      <td>92</td>\n",
       "      <td>400</td>\n",
       "      <td>2</td>\n",
       "      <td>1.0</td>\n",
       "      <td>1.0</td>\n",
       "      <td>1.0</td>\n",
       "      <td>0.0</td>\n",
       "      <td>1.0</td>\n",
       "      <td>1.0</td>\n",
       "    </tr>\n",
       "    <tr>\n",
       "      <th>3</th>\n",
       "      <td>PROMO -70%- Amazing 4BR Villa With Ricefield View</td>\n",
       "      <td>Entire villa in Kecamatan Ubud</td>\n",
       "      <td>4.94</td>\n",
       "      <td>16.0</td>\n",
       "      <td>459</td>\n",
       "      <td>1,969</td>\n",
       "      <td>2</td>\n",
       "      <td>1.0</td>\n",
       "      <td>1.5</td>\n",
       "      <td>1.0</td>\n",
       "      <td>1.0</td>\n",
       "      <td>1.0</td>\n",
       "      <td>1.0</td>\n",
       "    </tr>\n",
       "    <tr>\n",
       "      <th>4</th>\n",
       "      <td>Villa Murai Sumberkima Hill</td>\n",
       "      <td>Entire villa in Pemuteran</td>\n",
       "      <td>4.85</td>\n",
       "      <td>20.0</td>\n",
       "      <td>141</td>\n",
       "      <td>803</td>\n",
       "      <td>2</td>\n",
       "      <td>1.0</td>\n",
       "      <td>1.0</td>\n",
       "      <td>1.0</td>\n",
       "      <td>0.0</td>\n",
       "      <td>0.0</td>\n",
       "      <td>0.0</td>\n",
       "    </tr>\n",
       "    <tr>\n",
       "      <th>...</th>\n",
       "      <td>...</td>\n",
       "      <td>...</td>\n",
       "      <td>...</td>\n",
       "      <td>...</td>\n",
       "      <td>...</td>\n",
       "      <td>...</td>\n",
       "      <td>...</td>\n",
       "      <td>...</td>\n",
       "      <td>...</td>\n",
       "      <td>...</td>\n",
       "      <td>...</td>\n",
       "      <td>...</td>\n",
       "      <td>...</td>\n",
       "    </tr>\n",
       "    <tr>\n",
       "      <th>295</th>\n",
       "      <td>Honeymooners Villa Private Pool w/ beach access</td>\n",
       "      <td>Entire villa in Kecamatan Tabanan</td>\n",
       "      <td>5.00</td>\n",
       "      <td>17.0</td>\n",
       "      <td>166</td>\n",
       "      <td>947</td>\n",
       "      <td>2</td>\n",
       "      <td>1.0</td>\n",
       "      <td>1.0</td>\n",
       "      <td>1.0</td>\n",
       "      <td>1.0</td>\n",
       "      <td>1.0</td>\n",
       "      <td>0.0</td>\n",
       "    </tr>\n",
       "    <tr>\n",
       "      <th>296</th>\n",
       "      <td>Exotic Studio Room in Kuta (202)</td>\n",
       "      <td>Entire apartment in Kuta</td>\n",
       "      <td>4.64</td>\n",
       "      <td>14.0</td>\n",
       "      <td>17</td>\n",
       "      <td>61</td>\n",
       "      <td>2</td>\n",
       "      <td>1.0</td>\n",
       "      <td>1.0</td>\n",
       "      <td>1.0</td>\n",
       "      <td>0.0</td>\n",
       "      <td>1.0</td>\n",
       "      <td>1.0</td>\n",
       "    </tr>\n",
       "    <tr>\n",
       "      <th>297</th>\n",
       "      <td>Stunning Boho Designer Villa Canggu Ricefieldview</td>\n",
       "      <td>Entire villa in Kuta Utara</td>\n",
       "      <td>4.91</td>\n",
       "      <td>35.0</td>\n",
       "      <td>350</td>\n",
       "      <td>2,026</td>\n",
       "      <td>2</td>\n",
       "      <td>1.0</td>\n",
       "      <td>1.0</td>\n",
       "      <td>1.0</td>\n",
       "      <td>1.0</td>\n",
       "      <td>0.0</td>\n",
       "      <td>0.0</td>\n",
       "    </tr>\n",
       "    <tr>\n",
       "      <th>298</th>\n",
       "      <td>Oka's Homestay stndr #2</td>\n",
       "      <td>Private room in Kuta Utara</td>\n",
       "      <td>4.00</td>\n",
       "      <td>8.0</td>\n",
       "      <td>14</td>\n",
       "      <td>57</td>\n",
       "      <td>2</td>\n",
       "      <td>1.0</td>\n",
       "      <td>1.0</td>\n",
       "      <td>1.0</td>\n",
       "      <td>1.0</td>\n",
       "      <td>1.0</td>\n",
       "      <td>0.0</td>\n",
       "    </tr>\n",
       "    <tr>\n",
       "      <th>299</th>\n",
       "      <td>Beach Front Hotel at Lovina Beach North Bali</td>\n",
       "      <td>Hotel room in Kecamatan Buleleng</td>\n",
       "      <td>4.40</td>\n",
       "      <td>20.0</td>\n",
       "      <td>48</td>\n",
       "      <td>272</td>\n",
       "      <td>2</td>\n",
       "      <td>NaN</td>\n",
       "      <td>1.0</td>\n",
       "      <td>1.0</td>\n",
       "      <td>0.0</td>\n",
       "      <td>1.0</td>\n",
       "      <td>1.0</td>\n",
       "    </tr>\n",
       "  </tbody>\n",
       "</table>\n",
       "<p>300 rows × 13 columns</p>\n",
       "</div>"
      ],
      "text/plain": [
       "                                                 title  ... pool\n",
       "0     LOWER PRICE - Special Offer For Monthly Rental !  ...  1.0\n",
       "1       gmb beachhouse bingin beachfront amazing villa  ...  1.0\n",
       "2           Beautiful villa on the edge of BLUE LAGOON  ...  1.0\n",
       "3    PROMO -70%- Amazing 4BR Villa With Ricefield View  ...  1.0\n",
       "4                          Villa Murai Sumberkima Hill  ...  0.0\n",
       "..                                                 ...  ...  ...\n",
       "295    Honeymooners Villa Private Pool w/ beach access  ...  0.0\n",
       "296                   Exotic Studio Room in Kuta (202)  ...  1.0\n",
       "297  Stunning Boho Designer Villa Canggu Ricefieldview  ...  0.0\n",
       "298                            Oka's Homestay stndr #2  ...  0.0\n",
       "299       Beach Front Hotel at Lovina Beach North Bali  ...  1.0\n",
       "\n",
       "[300 rows x 13 columns]"
      ]
     },
     "execution_count": 26,
     "metadata": {
      "tags": []
     },
     "output_type": "execute_result"
    }
   ],
   "source": [
    "airbnb"
   ]
  },
  {
   "cell_type": "markdown",
   "metadata": {
    "id": "Qe8iR24-nZT7",
    "nbgrader": {
     "cell_type": "markdown",
     "checksum": "40a9e2a5d711afc40b5e61df89b82612",
     "grade": false,
     "grade_id": "cell-212db721f7961a48",
     "locked": true,
     "schema_version": 3,
     "solution": false,
     "task": false
    }
   },
   "source": [
    "Storing above data with the new information."
   ]
  },
  {
   "cell_type": "code",
   "execution_count": 27,
   "metadata": {
    "id": "na37_16nnZT7"
   },
   "outputs": [],
   "source": [
    "airbnb.to_csv(\"airbnb.csv\")"
   ]
  }
 ],
 "metadata": {
  "celltoolbar": "Edit Metadata",
  "colab": {
   "collapsed_sections": [],
   "name": "CloudComputing2020_A2_MicaelCunhaAlves.ipynb",
   "provenance": [],
   "toc_visible": true
  },
  "kernelspec": {
   "display_name": "Python 3",
   "language": "python",
   "name": "python3"
  },
  "language_info": {
   "codemirror_mode": {
    "name": "ipython",
    "version": 3
   },
   "file_extension": ".py",
   "mimetype": "text/x-python",
   "name": "python",
   "nbconvert_exporter": "python",
   "pygments_lexer": "ipython3",
   "version": "3.8.10"
  }
 },
 "nbformat": 4,
 "nbformat_minor": 1
}
